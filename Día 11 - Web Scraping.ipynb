{
 "cells": [
  {
   "cell_type": "markdown",
   "id": "f812366f",
   "metadata": {},
   "source": [
    "Importando los módulos:"
   ]
  },
  {
   "cell_type": "code",
   "execution_count": 1,
   "id": "23fce710",
   "metadata": {},
   "outputs": [],
   "source": [
    "import bs4\n",
    "import requests"
   ]
  },
  {
   "cell_type": "markdown",
   "id": "5dfdf9a7",
   "metadata": {},
   "source": [
    "Utilizamos _requests_ para poner la liga de la página con la que queremos trabajar:"
   ]
  },
  {
   "cell_type": "code",
   "execution_count": 3,
   "id": "c718297b",
   "metadata": {},
   "outputs": [],
   "source": [
    "resultado = requests.get(\"https://escueladirecta-blog.blogspot.com/2023/04/usa-python-para-modelar-simular-y.html\")\n",
    "sopa = bs4.BeautifulSoup(resultado.text, 'lxml')"
   ]
  },
  {
   "cell_type": "markdown",
   "id": "b1301108",
   "metadata": {},
   "source": [
    "### Título:"
   ]
  },
  {
   "cell_type": "markdown",
   "id": "b7257d6c",
   "metadata": {},
   "source": [
    "Al utilizar las comas (**\"**) obtenemos una lista con todos los elementos con la etiqueta (en este caso _title_):"
   ]
  },
  {
   "cell_type": "code",
   "execution_count": 4,
   "id": "0187ec8e",
   "metadata": {},
   "outputs": [
    {
     "name": "stdout",
     "output_type": "stream",
     "text": [
      "[<title>Usa Python para Modelar, Simular y Optimizar Sistemas</title>]\n"
     ]
    }
   ],
   "source": [
    "print(sopa.select('title'))"
   ]
  },
  {
   "cell_type": "markdown",
   "id": "2d016594",
   "metadata": {},
   "source": [
    "A continuación ya estamos obteniendo el título:"
   ]
  },
  {
   "cell_type": "code",
   "execution_count": 6,
   "id": "2fd5fb0b",
   "metadata": {},
   "outputs": [
    {
     "name": "stdout",
     "output_type": "stream",
     "text": [
      "<title>Usa Python para Modelar, Simular y Optimizar Sistemas</title>\n",
      "Usa Python para Modelar, Simular y Optimizar Sistemas\n"
     ]
    }
   ],
   "source": [
    "print(sopa.select('title')[0]) # como utilizamos una lista, podemos accesar a ella como una lista\n",
    "print(sopa.select('title')[0].getText()) # obteniendo solo el título"
   ]
  },
  {
   "cell_type": "markdown",
   "id": "545389e9",
   "metadata": {},
   "source": [
    "### Párrafos:"
   ]
  },
  {
   "cell_type": "code",
   "execution_count": 16,
   "id": "7ef78979",
   "metadata": {},
   "outputs": [
    {
     "name": "stdout",
     "output_type": "stream",
     "text": [
      "Cantidad de <p> en la página: 14\n"
     ]
    }
   ],
   "source": [
    "parrafo = sopa.select('p')\n",
    "print('Cantidad de <p> en la página:', len(parrafo))"
   ]
  },
  {
   "cell_type": "markdown",
   "id": "8434d9a3",
   "metadata": {},
   "source": [
    "Para observar qué es lo que obtiene BeautifulSoup:"
   ]
  },
  {
   "cell_type": "code",
   "execution_count": 17,
   "id": "57a56e15",
   "metadata": {
    "scrolled": true
   },
   "outputs": [
    {
     "name": "stdout",
     "output_type": "stream",
     "text": [
      "[<p> </p>, <p></p>, <p><span style=\"font-family: Roboto;\">La simulación es el proceso de diseñar un modelo de un sistema real y experimentar con él a fin de entender su comportamiento, evaluar estrategias o escenarios, acelerar los tiempos de desarrollo y minimizar riesgos y costos que se incrementarían sobre un sistema real. La simulación se utiliza en todo tipo de industrias, y permite lograr importantes ahorros de tiempo y costos, dado que podemos programar el comportamiento de un sistema complejo y hacer miles de iteraciones sobre el mismo antes de tomar la decisión de invertir o no en desarrollarlo completamente.</span></p>, <p><span style=\"font-family: Roboto;\">Python, como lenguaje de programación de propósito general, ofrece una amplia gama de librerías y herramientas para abordar problemas de simulación en diversos campos. En este artículo, exploraremos las librerías y procedimientos generales de Python que pueden ser utilizados en la simulación, así como algunos ejemplos en finanzas e industria.</span></p>, <p><span style=\"font-family: Roboto;\"><b>Librerías de Python para simulación</b></span></p>, <p></p>, <p></p>, <p><span style=\"font-family: Roboto;\"><b>Procedimientos de simulación con Python</b></span></p>, <p></p>, <p></p>, <p><span style=\"font-family: Roboto;\"><b>Ejemplos</b></span></p>, <p></p>, <p></p>, <p><span style=\"font-family: Roboto;\">También, puedes utilizar Python para simular distintos escenarios para proyectos de inversión, la demanda de un producto o las colas en un sistema de atención al cliente. La gran ventaja de contar con Python como tu aliado en simulación, es que puedes utilizar la programación para adaptarla a cualquier situación que imagines, y contarás con una gran potencia de cálculo para proyectar miles de escenarios en pocos segundos, que te ayuden a tomar una decisión más informada.</span></p>]\n"
     ]
    }
   ],
   "source": [
    "print(parrafo)"
   ]
  },
  {
   "cell_type": "markdown",
   "id": "c503d054",
   "metadata": {},
   "source": [
    "Escogiendo uno en específico:"
   ]
  },
  {
   "cell_type": "code",
   "execution_count": 18,
   "id": "627d01bd",
   "metadata": {},
   "outputs": [
    {
     "name": "stdout",
     "output_type": "stream",
     "text": [
      "Librerías de Python para simulación\n"
     ]
    }
   ],
   "source": [
    "print(parrafo[4].getText())"
   ]
  },
  {
   "cell_type": "markdown",
   "id": "33fd3472",
   "metadata": {},
   "source": [
    "Obteniendo todos los párrafos de la página utilizando un _for loop_:"
   ]
  },
  {
   "cell_type": "code",
   "execution_count": 19,
   "id": "5bede187",
   "metadata": {
    "scrolled": true
   },
   "outputs": [
    {
     "name": "stdout",
     "output_type": "stream",
     "text": [
      " \n",
      "\n",
      "La simulación es el proceso de diseñar un modelo de un sistema real y experimentar con él a fin de entender su comportamiento, evaluar estrategias o escenarios, acelerar los tiempos de desarrollo y minimizar riesgos y costos que se incrementarían sobre un sistema real. La simulación se utiliza en todo tipo de industrias, y permite lograr importantes ahorros de tiempo y costos, dado que podemos programar el comportamiento de un sistema complejo y hacer miles de iteraciones sobre el mismo antes de tomar la decisión de invertir o no en desarrollarlo completamente.\n",
      "Python, como lenguaje de programación de propósito general, ofrece una amplia gama de librerías y herramientas para abordar problemas de simulación en diversos campos. En este artículo, exploraremos las librerías y procedimientos generales de Python que pueden ser utilizados en la simulación, así como algunos ejemplos en finanzas e industria.\n",
      "Librerías de Python para simulación\n",
      "\n",
      "\n",
      "Procedimientos de simulación con Python\n",
      "\n",
      "\n",
      "Ejemplos\n",
      "\n",
      "\n",
      "También, puedes utilizar Python para simular distintos escenarios para proyectos de inversión, la demanda de un producto o las colas en un sistema de atención al cliente. La gran ventaja de contar con Python como tu aliado en simulación, es que puedes utilizar la programación para adaptarla a cualquier situación que imagines, y contarás con una gran potencia de cálculo para proyectar miles de escenarios en pocos segundos, que te ayuden a tomar una decisión más informada.\n"
     ]
    }
   ],
   "source": [
    "for p in parrafo:\n",
    "    print(p.getText())"
   ]
  },
  {
   "cell_type": "markdown",
   "id": "cfbcae5e",
   "metadata": {},
   "source": [
    "### Imágenes: \n",
    "Obteniendo imágenes de la página del curso del profesor, podemos obtener un listado de las imágenes disponibles utilizando _'img'_."
   ]
  },
  {
   "cell_type": "code",
   "execution_count": 21,
   "id": "9a764843",
   "metadata": {},
   "outputs": [
    {
     "name": "stdout",
     "output_type": "stream",
     "text": [
      "<img alt=\"Escuela Directa\" src=\"https://process.fs.teachablecdn.com/ADNupMnWyR7kCWRvm76Laz/resize=height:60/https://www.filepicker.io/api/file/UTNSPDfDQgurVa1kLkcC\" srcset=\"https://process.fs.teachablecdn.com/ADNupMnWyR7kCWRvm76Laz/resize=height:120/https://www.filepicker.io/api/file/UTNSPDfDQgurVa1kLkcC 2x\"/>\n",
      "<img alt=\"\" class=\"course-box-image\" role=\"presentation\" src=\"https://process.fs.teachablecdn.com/ADNupMnWyR7kCWRvm76Laz/resize=width:705/https://file-uploads.teachablecdn.com/136becbcea3e4d51abede23bf9794cf1/bcae2c4d38ac4953bd27a3d3be140893\"/>\n",
      "<img alt=\"Federico Garay\" class=\"img-circle\" src=\"https://process.fs.teachablecdn.com/ADNupMnWyR7kCWRvm76Laz/resize=width:30,height:30/https://www.filepicker.io/api/file/MGAWdJKaQqmQ2aMIRUbv\"/>\n",
      "<img alt=\"\" class=\"course-box-image\" role=\"presentation\" src=\"https://process.fs.teachablecdn.com/ADNupMnWyR7kCWRvm76Laz/resize=width:705/https://file-uploads.teachablecdn.com/7c3cc8dec13543acb3a17f27289d95f1/231201b92ca84c29b74a05850f9bb66b\"/>\n",
      "<img alt=\"Federico Garay\" class=\"img-circle\" src=\"https://process.fs.teachablecdn.com/ADNupMnWyR7kCWRvm76Laz/resize=width:30,height:30/https://www.filepicker.io/api/file/MGAWdJKaQqmQ2aMIRUbv\"/>\n",
      "<img alt=\"\" class=\"course-box-image\" role=\"presentation\" src=\"https://process.fs.teachablecdn.com/ADNupMnWyR7kCWRvm76Laz/resize=width:705/https://file-uploads.teachablecdn.com/33428ba0e74f43adab9d355bca47c8f1/198502c570534c28ac5ff40bfe7ead47\"/>\n",
      "<img alt=\"Federico Garay\" class=\"img-circle\" src=\"https://process.fs.teachablecdn.com/ADNupMnWyR7kCWRvm76Laz/resize=width:30,height:30/https://www.filepicker.io/api/file/MGAWdJKaQqmQ2aMIRUbv\"/>\n",
      "<img alt=\"\" class=\"course-box-image\" role=\"presentation\" src=\"https://process.fs.teachablecdn.com/ADNupMnWyR7kCWRvm76Laz/resize=width:705/https://file-uploads.teachablecdn.com/fe6f9c0f3b7b47c589e07d28688e33f1/9857a19b6f3d44f9a79af9c8c7444888\"/>\n",
      "<img alt=\"Federico Garay\" class=\"img-circle\" src=\"https://process.fs.teachablecdn.com/ADNupMnWyR7kCWRvm76Laz/resize=width:30,height:30/https://www.filepicker.io/api/file/MGAWdJKaQqmQ2aMIRUbv\"/>\n",
      "<img alt=\"\" class=\"course-box-image\" role=\"presentation\" src=\"https://process.fs.teachablecdn.com/ADNupMnWyR7kCWRvm76Laz/resize=width:705/https://file-uploads.teachablecdn.com/68e48815aced4b66918ba9cf1144dff1/bf0b85b07c344ae39634e90fde071867\"/>\n",
      "<img alt=\"Federico Garay\" class=\"img-circle\" src=\"https://process.fs.teachablecdn.com/ADNupMnWyR7kCWRvm76Laz/resize=width:30,height:30/https://www.filepicker.io/api/file/MGAWdJKaQqmQ2aMIRUbv\"/>\n",
      "<img alt=\"\" class=\"course-box-image\" role=\"presentation\" src=\"https://process.fs.teachablecdn.com/ADNupMnWyR7kCWRvm76Laz/resize=width:705/https://file-uploads.teachablecdn.com/6bf03a1dbd654973b68ef83869eea2f1/e56c9e75a187403e9e7aa8d43e490fe7\"/>\n",
      "<img alt=\"Federico Garay\" class=\"img-circle\" src=\"https://process.fs.teachablecdn.com/ADNupMnWyR7kCWRvm76Laz/resize=width:30,height:30/https://www.filepicker.io/api/file/MGAWdJKaQqmQ2aMIRUbv\"/>\n",
      "<img alt=\"\" class=\"course-box-image\" role=\"presentation\" src=\"https://process.fs.teachablecdn.com/ADNupMnWyR7kCWRvm76Laz/resize=width:705/https://file-uploads.teachablecdn.com/3d65d27725a345db9b3ab5f891b7b7f1/1a380f55367a4ac0bdc917950661e146\"/>\n",
      "<img alt=\"Federico Garay\" class=\"img-circle\" src=\"https://process.fs.teachablecdn.com/ADNupMnWyR7kCWRvm76Laz/resize=width:30,height:30/https://www.filepicker.io/api/file/MGAWdJKaQqmQ2aMIRUbv\"/>\n",
      "<img alt=\"\" class=\"course-box-image\" role=\"presentation\" src=\"https://process.fs.teachablecdn.com/ADNupMnWyR7kCWRvm76Laz/resize=width:705/https://file-uploads.teachablecdn.com/497e5c35418343c8a15c630470463bf1/a4cf0d7547af4a6ca638602041f99b8e\"/>\n",
      "<img alt=\"Federico Garay\" class=\"img-circle\" src=\"https://process.fs.teachablecdn.com/ADNupMnWyR7kCWRvm76Laz/resize=width:30,height:30/https://www.filepicker.io/api/file/MGAWdJKaQqmQ2aMIRUbv\"/>\n",
      "<img alt=\"\" class=\"course-box-image\" role=\"presentation\" src=\"https://process.fs.teachablecdn.com/ADNupMnWyR7kCWRvm76Laz/resize=width:705/https://file-uploads.teachablecdn.com/f1f81487c06b402ab30ba9c1d7b222f1/167f879af9384eb89534e77ca670abe1\"/>\n",
      "<img alt=\"Federico Garay\" class=\"img-circle\" src=\"https://process.fs.teachablecdn.com/ADNupMnWyR7kCWRvm76Laz/resize=width:30,height:30/https://www.filepicker.io/api/file/XnMbb2gLSHmNUvTGgpJD\"/>\n",
      "<img alt=\"\" class=\"course-box-image\" role=\"presentation\" src=\"https://process.fs.teachablecdn.com/ADNupMnWyR7kCWRvm76Laz/resize=width:705/https://file-uploads.teachablecdn.com/b644b63346e74f5c86142bc81721cef1/5678024c8ccf40728481ecd5a7023296\"/>\n",
      "<img alt=\"Federico Garay\" class=\"img-circle\" src=\"https://process.fs.teachablecdn.com/ADNupMnWyR7kCWRvm76Laz/resize=width:30,height:30/https://www.filepicker.io/api/file/MGAWdJKaQqmQ2aMIRUbv\"/>\n",
      "<img alt=\"\" class=\"course-box-image\" role=\"presentation\" src=\"https://process.fs.teachablecdn.com/ADNupMnWyR7kCWRvm76Laz/resize=width:705/https://file-uploads.teachablecdn.com/b08754220627427c8f382099f2c3d2f1/1d74655f8f4542859526b47935f4b9a5\"/>\n",
      "<img alt=\"Federico Garay\" class=\"img-circle\" src=\"https://process.fs.teachablecdn.com/ADNupMnWyR7kCWRvm76Laz/resize=width:30,height:30/https://www.filepicker.io/api/file/XnMbb2gLSHmNUvTGgpJD\"/>\n",
      "<img alt=\"\" class=\"course-box-image\" role=\"presentation\" src=\"https://process.fs.teachablecdn.com/ADNupMnWyR7kCWRvm76Laz/resize=width:705/https://file-uploads.teachablecdn.com/67f4798850894d4c8f47bbc6433259f1/78b47f33fd204c9f818a1becec23b2a5\"/>\n",
      "<img alt=\"Federico Garay\" class=\"img-circle\" src=\"https://process.fs.teachablecdn.com/ADNupMnWyR7kCWRvm76Laz/resize=width:30,height:30/https://www.filepicker.io/api/file/XnMbb2gLSHmNUvTGgpJD\"/>\n",
      "<img alt=\"\" class=\"course-box-image\" role=\"presentation\" src=\"https://process.fs.teachablecdn.com/ADNupMnWyR7kCWRvm76Laz/resize=width:705/https://file-uploads.teachablecdn.com/758b4de176dd4320aebb2e27dbaff6f1/1a51f59092284c5d98c5297630f2282a\"/>\n",
      "<img alt=\"Federico Garay\" class=\"img-circle\" src=\"https://process.fs.teachablecdn.com/ADNupMnWyR7kCWRvm76Laz/resize=width:30,height:30/https://www.filepicker.io/api/file/XnMbb2gLSHmNUvTGgpJD\"/>\n",
      "<img alt=\"\" class=\"course-box-image\" role=\"presentation\" src=\"https://process.fs.teachablecdn.com/ADNupMnWyR7kCWRvm76Laz/resize=width:705/https://file-uploads.teachablecdn.com/50616d472b534e4ca84acd0ae7a3e9f1/71d4b7702b6c4f25b06f000ab1eeb634\"/>\n",
      "<img alt=\"Federico Garay\" class=\"img-circle\" src=\"https://process.fs.teachablecdn.com/ADNupMnWyR7kCWRvm76Laz/resize=width:30,height:30/https://www.filepicker.io/api/file/XnMbb2gLSHmNUvTGgpJD\"/>\n",
      "<img alt=\"\" class=\"course-box-image\" role=\"presentation\" src=\"https://process.fs.teachablecdn.com/ADNupMnWyR7kCWRvm76Laz/resize=width:705/https://file-uploads.teachablecdn.com/2db0c365319842008ce0f2e4e51ae9f1/de2c9db07ff84bfa9d9250e8b3143fb8\"/>\n",
      "<img alt=\"Federico Garay\" class=\"img-circle\" src=\"https://process.fs.teachablecdn.com/ADNupMnWyR7kCWRvm76Laz/resize=width:30,height:30/https://www.filepicker.io/api/file/XnMbb2gLSHmNUvTGgpJD\"/>\n",
      "<img alt=\"Teachable\" class=\"powered-by-logo\" rel=\"noopener\" src=\"https://fedora.teachablecdn.com/assets/footer/teachable-logomark-white-31d2296978598bacace50e6d48a2e1223c20a9b074af424acdd465676f81560f.svg\" target=\"_blank\"/>\n"
     ]
    }
   ],
   "source": [
    "resultado = requests.get(\"https://www.escueladirecta.com/courses\")\n",
    "sopa = bs4.BeautifulSoup(resultado.text, 'lxml')\n",
    "\n",
    "imagenes = sopa.select('img')\n",
    "\n",
    "for i in imagenes:\n",
    "    print(i)"
   ]
  },
  {
   "cell_type": "markdown",
   "id": "f1bb3638",
   "metadata": {},
   "source": [
    "Queremos conseguir solamente las imágenes que representan un curso, nos damos cuenta que son las que tienen **_class='course-box-image'_**, y para conseguir exactamente el _link_ de una de las imágenes haríamos lo siguiente:"
   ]
  },
  {
   "cell_type": "code",
   "execution_count": 22,
   "id": "0481348c",
   "metadata": {},
   "outputs": [
    {
     "name": "stdout",
     "output_type": "stream",
     "text": [
      "https://process.fs.teachablecdn.com/ADNupMnWyR7kCWRvm76Laz/resize=width:705/https://file-uploads.teachablecdn.com/136becbcea3e4d51abede23bf9794cf1/bcae2c4d38ac4953bd27a3d3be140893\n"
     ]
    }
   ],
   "source": [
    "imagenes = sopa.select('.course-box-image')[1]['src']\n",
    "\n",
    "# ya descargué la [0], por eso ahora bajo la [1]"
   ]
  },
  {
   "cell_type": "code",
   "execution_count": 23,
   "id": "f8ebeb5a",
   "metadata": {},
   "outputs": [],
   "source": [
    "imagen_curso_2 = requests.get(imagenes)\n",
    "f = open('python_total_2.jpg', 'wb')\n",
    "f.write(imagen_curso_2.content)\n",
    "f.close()"
   ]
  },
  {
   "cell_type": "markdown",
   "id": "60567e7e",
   "metadata": {},
   "source": [
    "No obtenemos una respuesta por parte de la terminal o consola, pero sí podemos fijarnos que ya está disponible la imágen en nuestra carpeta."
   ]
  },
  {
   "cell_type": "markdown",
   "id": "a3ff0f6d",
   "metadata": {},
   "source": [
    "---"
   ]
  },
  {
   "cell_type": "markdown",
   "id": "04c03a7d",
   "metadata": {},
   "source": [
    "## Web-Scraping: Books to Scrape"
   ]
  },
  {
   "cell_type": "code",
   "execution_count": 1,
   "id": "0c25c73f",
   "metadata": {},
   "outputs": [],
   "source": [
    "import bs4\n",
    "import requests"
   ]
  },
  {
   "cell_type": "markdown",
   "id": "75c1c8d3",
   "metadata": {},
   "source": [
    "Nos damos cuenta que todos los libros están acomodados en distintas páginas y que el URL por página solamente cambia en un número, por lo que pondremos en nuestro URL base unos corchetes que después llenaremos con _format_."
   ]
  },
  {
   "cell_type": "code",
   "execution_count": 4,
   "id": "3ee43ba3",
   "metadata": {},
   "outputs": [],
   "source": [
    "url_base = \"http://books.toscrape.com/catalogue/page-{}.html\"\n",
    "resultado = requests.get(url_base.format(1))"
   ]
  },
  {
   "cell_type": "markdown",
   "id": "7a69e7f4",
   "metadata": {},
   "source": [
    "Utilizamos BeautifulSoup:"
   ]
  },
  {
   "cell_type": "code",
   "execution_count": 5,
   "id": "d510ae63",
   "metadata": {},
   "outputs": [],
   "source": [
    "sopa = bs4.BeautifulSoup(resultado.text, 'lxml')"
   ]
  },
  {
   "cell_type": "markdown",
   "id": "a7be7273",
   "metadata": {},
   "source": [
    "Cada página tiene 20 libros, entonces usaremos _len( )_ para verificar que así sea:"
   ]
  },
  {
   "cell_type": "code",
   "execution_count": 6,
   "id": "70a349a7",
   "metadata": {},
   "outputs": [
    {
     "name": "stdout",
     "output_type": "stream",
     "text": [
      "20\n"
     ]
    }
   ],
   "source": [
    "print(len(sopa.select('.product_pod')))"
   ]
  },
  {
   "cell_type": "markdown",
   "id": "66cc69cd",
   "metadata": {},
   "source": [
    "Al fijarnos en la página, nos damos cuenta que toda la información que necesitamos se encuentra dentro de la **_class:product__pod_**."
   ]
  },
  {
   "cell_type": "code",
   "execution_count": 7,
   "id": "8e2a33be",
   "metadata": {
    "scrolled": true
   },
   "outputs": [
    {
     "name": "stdout",
     "output_type": "stream",
     "text": [
      "[<article class=\"product_pod\">\n",
      "<div class=\"image_container\">\n",
      "<a href=\"a-light-in-the-attic_1000/index.html\"><img alt=\"A Light in the Attic\" class=\"thumbnail\" src=\"../media/cache/2c/da/2cdad67c44b002e7ead0cc35693c0e8b.jpg\"/></a>\n",
      "</div>\n",
      "<p class=\"star-rating Three\">\n",
      "<i class=\"icon-star\"></i>\n",
      "<i class=\"icon-star\"></i>\n",
      "<i class=\"icon-star\"></i>\n",
      "<i class=\"icon-star\"></i>\n",
      "<i class=\"icon-star\"></i>\n",
      "</p>\n",
      "<h3><a href=\"a-light-in-the-attic_1000/index.html\" title=\"A Light in the Attic\">A Light in the ...</a></h3>\n",
      "<div class=\"product_price\">\n",
      "<p class=\"price_color\">Â£51.77</p>\n",
      "<p class=\"instock availability\">\n",
      "<i class=\"icon-ok\"></i>\n",
      "    \n",
      "        In stock\n",
      "    \n",
      "</p>\n",
      "<form>\n",
      "<button class=\"btn btn-primary btn-block\" data-loading-text=\"Adding...\" type=\"submit\">Add to basket</button>\n",
      "</form>\n",
      "</div>\n",
      "</article>, <article class=\"product_pod\">\n",
      "<div class=\"image_container\">\n",
      "<a href=\"tipping-the-velvet_999/index.html\"><img alt=\"Tipping the Velvet\" class=\"thumbnail\" src=\"../media/cache/26/0c/260c6ae16bce31c8f8c95daddd9f4a1c.jpg\"/></a>\n",
      "</div>\n",
      "<p class=\"star-rating One\">\n",
      "<i class=\"icon-star\"></i>\n",
      "<i class=\"icon-star\"></i>\n",
      "<i class=\"icon-star\"></i>\n",
      "<i class=\"icon-star\"></i>\n",
      "<i class=\"icon-star\"></i>\n",
      "</p>\n",
      "<h3><a href=\"tipping-the-velvet_999/index.html\" title=\"Tipping the Velvet\">Tipping the Velvet</a></h3>\n",
      "<div class=\"product_price\">\n",
      "<p class=\"price_color\">Â£53.74</p>\n",
      "<p class=\"instock availability\">\n",
      "<i class=\"icon-ok\"></i>\n",
      "    \n",
      "        In stock\n",
      "    \n",
      "</p>\n",
      "<form>\n",
      "<button class=\"btn btn-primary btn-block\" data-loading-text=\"Adding...\" type=\"submit\">Add to basket</button>\n",
      "</form>\n",
      "</div>\n",
      "</article>, <article class=\"product_pod\">\n",
      "<div class=\"image_container\">\n",
      "<a href=\"soumission_998/index.html\"><img alt=\"Soumission\" class=\"thumbnail\" src=\"../media/cache/3e/ef/3eef99c9d9adef34639f510662022830.jpg\"/></a>\n",
      "</div>\n",
      "<p class=\"star-rating One\">\n",
      "<i class=\"icon-star\"></i>\n",
      "<i class=\"icon-star\"></i>\n",
      "<i class=\"icon-star\"></i>\n",
      "<i class=\"icon-star\"></i>\n",
      "<i class=\"icon-star\"></i>\n",
      "</p>\n",
      "<h3><a href=\"soumission_998/index.html\" title=\"Soumission\">Soumission</a></h3>\n",
      "<div class=\"product_price\">\n",
      "<p class=\"price_color\">Â£50.10</p>\n",
      "<p class=\"instock availability\">\n",
      "<i class=\"icon-ok\"></i>\n",
      "    \n",
      "        In stock\n",
      "    \n",
      "</p>\n",
      "<form>\n",
      "<button class=\"btn btn-primary btn-block\" data-loading-text=\"Adding...\" type=\"submit\">Add to basket</button>\n",
      "</form>\n",
      "</div>\n",
      "</article>, <article class=\"product_pod\">\n",
      "<div class=\"image_container\">\n",
      "<a href=\"sharp-objects_997/index.html\"><img alt=\"Sharp Objects\" class=\"thumbnail\" src=\"../media/cache/32/51/3251cf3a3412f53f339e42cac2134093.jpg\"/></a>\n",
      "</div>\n",
      "<p class=\"star-rating Four\">\n",
      "<i class=\"icon-star\"></i>\n",
      "<i class=\"icon-star\"></i>\n",
      "<i class=\"icon-star\"></i>\n",
      "<i class=\"icon-star\"></i>\n",
      "<i class=\"icon-star\"></i>\n",
      "</p>\n",
      "<h3><a href=\"sharp-objects_997/index.html\" title=\"Sharp Objects\">Sharp Objects</a></h3>\n",
      "<div class=\"product_price\">\n",
      "<p class=\"price_color\">Â£47.82</p>\n",
      "<p class=\"instock availability\">\n",
      "<i class=\"icon-ok\"></i>\n",
      "    \n",
      "        In stock\n",
      "    \n",
      "</p>\n",
      "<form>\n",
      "<button class=\"btn btn-primary btn-block\" data-loading-text=\"Adding...\" type=\"submit\">Add to basket</button>\n",
      "</form>\n",
      "</div>\n",
      "</article>, <article class=\"product_pod\">\n",
      "<div class=\"image_container\">\n",
      "<a href=\"sapiens-a-brief-history-of-humankind_996/index.html\"><img alt=\"Sapiens: A Brief History of Humankind\" class=\"thumbnail\" src=\"../media/cache/be/a5/bea5697f2534a2f86a3ef27b5a8c12a6.jpg\"/></a>\n",
      "</div>\n",
      "<p class=\"star-rating Five\">\n",
      "<i class=\"icon-star\"></i>\n",
      "<i class=\"icon-star\"></i>\n",
      "<i class=\"icon-star\"></i>\n",
      "<i class=\"icon-star\"></i>\n",
      "<i class=\"icon-star\"></i>\n",
      "</p>\n",
      "<h3><a href=\"sapiens-a-brief-history-of-humankind_996/index.html\" title=\"Sapiens: A Brief History of Humankind\">Sapiens: A Brief History ...</a></h3>\n",
      "<div class=\"product_price\">\n",
      "<p class=\"price_color\">Â£54.23</p>\n",
      "<p class=\"instock availability\">\n",
      "<i class=\"icon-ok\"></i>\n",
      "    \n",
      "        In stock\n",
      "    \n",
      "</p>\n",
      "<form>\n",
      "<button class=\"btn btn-primary btn-block\" data-loading-text=\"Adding...\" type=\"submit\">Add to basket</button>\n",
      "</form>\n",
      "</div>\n",
      "</article>, <article class=\"product_pod\">\n",
      "<div class=\"image_container\">\n",
      "<a href=\"the-requiem-red_995/index.html\"><img alt=\"The Requiem Red\" class=\"thumbnail\" src=\"../media/cache/68/33/68339b4c9bc034267e1da611ab3b34f8.jpg\"/></a>\n",
      "</div>\n",
      "<p class=\"star-rating One\">\n",
      "<i class=\"icon-star\"></i>\n",
      "<i class=\"icon-star\"></i>\n",
      "<i class=\"icon-star\"></i>\n",
      "<i class=\"icon-star\"></i>\n",
      "<i class=\"icon-star\"></i>\n",
      "</p>\n",
      "<h3><a href=\"the-requiem-red_995/index.html\" title=\"The Requiem Red\">The Requiem Red</a></h3>\n",
      "<div class=\"product_price\">\n",
      "<p class=\"price_color\">Â£22.65</p>\n",
      "<p class=\"instock availability\">\n",
      "<i class=\"icon-ok\"></i>\n",
      "    \n",
      "        In stock\n",
      "    \n",
      "</p>\n",
      "<form>\n",
      "<button class=\"btn btn-primary btn-block\" data-loading-text=\"Adding...\" type=\"submit\">Add to basket</button>\n",
      "</form>\n",
      "</div>\n",
      "</article>, <article class=\"product_pod\">\n",
      "<div class=\"image_container\">\n",
      "<a href=\"the-dirty-little-secrets-of-getting-your-dream-job_994/index.html\"><img alt=\"The Dirty Little Secrets of Getting Your Dream Job\" class=\"thumbnail\" src=\"../media/cache/92/27/92274a95b7c251fea59a2b8a78275ab4.jpg\"/></a>\n",
      "</div>\n",
      "<p class=\"star-rating Four\">\n",
      "<i class=\"icon-star\"></i>\n",
      "<i class=\"icon-star\"></i>\n",
      "<i class=\"icon-star\"></i>\n",
      "<i class=\"icon-star\"></i>\n",
      "<i class=\"icon-star\"></i>\n",
      "</p>\n",
      "<h3><a href=\"the-dirty-little-secrets-of-getting-your-dream-job_994/index.html\" title=\"The Dirty Little Secrets of Getting Your Dream Job\">The Dirty Little Secrets ...</a></h3>\n",
      "<div class=\"product_price\">\n",
      "<p class=\"price_color\">Â£33.34</p>\n",
      "<p class=\"instock availability\">\n",
      "<i class=\"icon-ok\"></i>\n",
      "    \n",
      "        In stock\n",
      "    \n",
      "</p>\n",
      "<form>\n",
      "<button class=\"btn btn-primary btn-block\" data-loading-text=\"Adding...\" type=\"submit\">Add to basket</button>\n",
      "</form>\n",
      "</div>\n",
      "</article>, <article class=\"product_pod\">\n",
      "<div class=\"image_container\">\n",
      "<a href=\"the-coming-woman-a-novel-based-on-the-life-of-the-infamous-feminist-victoria-woodhull_993/index.html\"><img alt=\"The Coming Woman: A Novel Based on the Life of the Infamous Feminist, Victoria Woodhull\" class=\"thumbnail\" src=\"../media/cache/3d/54/3d54940e57e662c4dd1f3ff00c78cc64.jpg\"/></a>\n",
      "</div>\n",
      "<p class=\"star-rating Three\">\n",
      "<i class=\"icon-star\"></i>\n",
      "<i class=\"icon-star\"></i>\n",
      "<i class=\"icon-star\"></i>\n",
      "<i class=\"icon-star\"></i>\n",
      "<i class=\"icon-star\"></i>\n",
      "</p>\n",
      "<h3><a href=\"the-coming-woman-a-novel-based-on-the-life-of-the-infamous-feminist-victoria-woodhull_993/index.html\" title=\"The Coming Woman: A Novel Based on the Life of the Infamous Feminist, Victoria Woodhull\">The Coming Woman: A ...</a></h3>\n",
      "<div class=\"product_price\">\n",
      "<p class=\"price_color\">Â£17.93</p>\n",
      "<p class=\"instock availability\">\n",
      "<i class=\"icon-ok\"></i>\n",
      "    \n",
      "        In stock\n",
      "    \n",
      "</p>\n",
      "<form>\n",
      "<button class=\"btn btn-primary btn-block\" data-loading-text=\"Adding...\" type=\"submit\">Add to basket</button>\n",
      "</form>\n",
      "</div>\n",
      "</article>, <article class=\"product_pod\">\n",
      "<div class=\"image_container\">\n",
      "<a href=\"the-boys-in-the-boat-nine-americans-and-their-epic-quest-for-gold-at-the-1936-berlin-olympics_992/index.html\"><img alt=\"The Boys in the Boat: Nine Americans and Their Epic Quest for Gold at the 1936 Berlin Olympics\" class=\"thumbnail\" src=\"../media/cache/66/88/66883b91f6804b2323c8369331cb7dd1.jpg\"/></a>\n",
      "</div>\n",
      "<p class=\"star-rating Four\">\n",
      "<i class=\"icon-star\"></i>\n",
      "<i class=\"icon-star\"></i>\n",
      "<i class=\"icon-star\"></i>\n",
      "<i class=\"icon-star\"></i>\n",
      "<i class=\"icon-star\"></i>\n",
      "</p>\n",
      "<h3><a href=\"the-boys-in-the-boat-nine-americans-and-their-epic-quest-for-gold-at-the-1936-berlin-olympics_992/index.html\" title=\"The Boys in the Boat: Nine Americans and Their Epic Quest for Gold at the 1936 Berlin Olympics\">The Boys in the ...</a></h3>\n",
      "<div class=\"product_price\">\n",
      "<p class=\"price_color\">Â£22.60</p>\n",
      "<p class=\"instock availability\">\n",
      "<i class=\"icon-ok\"></i>\n",
      "    \n",
      "        In stock\n",
      "    \n",
      "</p>\n",
      "<form>\n",
      "<button class=\"btn btn-primary btn-block\" data-loading-text=\"Adding...\" type=\"submit\">Add to basket</button>\n",
      "</form>\n",
      "</div>\n",
      "</article>, <article class=\"product_pod\">\n",
      "<div class=\"image_container\">\n",
      "<a href=\"the-black-maria_991/index.html\"><img alt=\"The Black Maria\" class=\"thumbnail\" src=\"../media/cache/58/46/5846057e28022268153beff6d352b06c.jpg\"/></a>\n",
      "</div>\n",
      "<p class=\"star-rating One\">\n",
      "<i class=\"icon-star\"></i>\n",
      "<i class=\"icon-star\"></i>\n",
      "<i class=\"icon-star\"></i>\n",
      "<i class=\"icon-star\"></i>\n",
      "<i class=\"icon-star\"></i>\n",
      "</p>\n",
      "<h3><a href=\"the-black-maria_991/index.html\" title=\"The Black Maria\">The Black Maria</a></h3>\n",
      "<div class=\"product_price\">\n",
      "<p class=\"price_color\">Â£52.15</p>\n",
      "<p class=\"instock availability\">\n",
      "<i class=\"icon-ok\"></i>\n",
      "    \n",
      "        In stock\n",
      "    \n",
      "</p>\n",
      "<form>\n",
      "<button class=\"btn btn-primary btn-block\" data-loading-text=\"Adding...\" type=\"submit\">Add to basket</button>\n",
      "</form>\n",
      "</div>\n",
      "</article>, <article class=\"product_pod\">\n",
      "<div class=\"image_container\">\n",
      "<a href=\"starving-hearts-triangular-trade-trilogy-1_990/index.html\"><img alt=\"Starving Hearts (Triangular Trade Trilogy, #1)\" class=\"thumbnail\" src=\"../media/cache/be/f4/bef44da28c98f905a3ebec0b87be8530.jpg\"/></a>\n",
      "</div>\n",
      "<p class=\"star-rating Two\">\n",
      "<i class=\"icon-star\"></i>\n",
      "<i class=\"icon-star\"></i>\n",
      "<i class=\"icon-star\"></i>\n",
      "<i class=\"icon-star\"></i>\n",
      "<i class=\"icon-star\"></i>\n",
      "</p>\n",
      "<h3><a href=\"starving-hearts-triangular-trade-trilogy-1_990/index.html\" title=\"Starving Hearts (Triangular Trade Trilogy, #1)\">Starving Hearts (Triangular Trade ...</a></h3>\n",
      "<div class=\"product_price\">\n",
      "<p class=\"price_color\">Â£13.99</p>\n",
      "<p class=\"instock availability\">\n",
      "<i class=\"icon-ok\"></i>\n",
      "    \n",
      "        In stock\n",
      "    \n",
      "</p>\n",
      "<form>\n",
      "<button class=\"btn btn-primary btn-block\" data-loading-text=\"Adding...\" type=\"submit\">Add to basket</button>\n",
      "</form>\n",
      "</div>\n",
      "</article>, <article class=\"product_pod\">\n",
      "<div class=\"image_container\">\n",
      "<a href=\"shakespeares-sonnets_989/index.html\"><img alt=\"Shakespeare's Sonnets\" class=\"thumbnail\" src=\"../media/cache/10/48/1048f63d3b5061cd2f424d20b3f9b666.jpg\"/></a>\n",
      "</div>\n",
      "<p class=\"star-rating Four\">\n",
      "<i class=\"icon-star\"></i>\n",
      "<i class=\"icon-star\"></i>\n",
      "<i class=\"icon-star\"></i>\n",
      "<i class=\"icon-star\"></i>\n",
      "<i class=\"icon-star\"></i>\n",
      "</p>\n",
      "<h3><a href=\"shakespeares-sonnets_989/index.html\" title=\"Shakespeare's Sonnets\">Shakespeare's Sonnets</a></h3>\n",
      "<div class=\"product_price\">\n",
      "<p class=\"price_color\">Â£20.66</p>\n",
      "<p class=\"instock availability\">\n",
      "<i class=\"icon-ok\"></i>\n",
      "    \n",
      "        In stock\n",
      "    \n",
      "</p>\n",
      "<form>\n",
      "<button class=\"btn btn-primary btn-block\" data-loading-text=\"Adding...\" type=\"submit\">Add to basket</button>\n",
      "</form>\n",
      "</div>\n",
      "</article>, <article class=\"product_pod\">\n",
      "<div class=\"image_container\">\n",
      "<a href=\"set-me-free_988/index.html\"><img alt=\"Set Me Free\" class=\"thumbnail\" src=\"../media/cache/5b/88/5b88c52633f53cacf162c15f4f823153.jpg\"/></a>\n",
      "</div>\n",
      "<p class=\"star-rating Five\">\n",
      "<i class=\"icon-star\"></i>\n",
      "<i class=\"icon-star\"></i>\n",
      "<i class=\"icon-star\"></i>\n",
      "<i class=\"icon-star\"></i>\n",
      "<i class=\"icon-star\"></i>\n",
      "</p>\n",
      "<h3><a href=\"set-me-free_988/index.html\" title=\"Set Me Free\">Set Me Free</a></h3>\n",
      "<div class=\"product_price\">\n",
      "<p class=\"price_color\">Â£17.46</p>\n",
      "<p class=\"instock availability\">\n",
      "<i class=\"icon-ok\"></i>\n",
      "    \n",
      "        In stock\n",
      "    \n",
      "</p>\n",
      "<form>\n",
      "<button class=\"btn btn-primary btn-block\" data-loading-text=\"Adding...\" type=\"submit\">Add to basket</button>\n",
      "</form>\n",
      "</div>\n",
      "</article>, <article class=\"product_pod\">\n",
      "<div class=\"image_container\">\n",
      "<a href=\"scott-pilgrims-precious-little-life-scott-pilgrim-1_987/index.html\"><img alt=\"Scott Pilgrim's Precious Little Life (Scott Pilgrim #1)\" class=\"thumbnail\" src=\"../media/cache/94/b1/94b1b8b244bce9677c2f29ccc890d4d2.jpg\"/></a>\n",
      "</div>\n",
      "<p class=\"star-rating Five\">\n",
      "<i class=\"icon-star\"></i>\n",
      "<i class=\"icon-star\"></i>\n",
      "<i class=\"icon-star\"></i>\n",
      "<i class=\"icon-star\"></i>\n",
      "<i class=\"icon-star\"></i>\n",
      "</p>\n",
      "<h3><a href=\"scott-pilgrims-precious-little-life-scott-pilgrim-1_987/index.html\" title=\"Scott Pilgrim's Precious Little Life (Scott Pilgrim #1)\">Scott Pilgrim's Precious Little ...</a></h3>\n",
      "<div class=\"product_price\">\n",
      "<p class=\"price_color\">Â£52.29</p>\n",
      "<p class=\"instock availability\">\n",
      "<i class=\"icon-ok\"></i>\n",
      "    \n",
      "        In stock\n",
      "    \n",
      "</p>\n",
      "<form>\n",
      "<button class=\"btn btn-primary btn-block\" data-loading-text=\"Adding...\" type=\"submit\">Add to basket</button>\n",
      "</form>\n",
      "</div>\n",
      "</article>, <article class=\"product_pod\">\n",
      "<div class=\"image_container\">\n",
      "<a href=\"rip-it-up-and-start-again_986/index.html\"><img alt=\"Rip it Up and Start Again\" class=\"thumbnail\" src=\"../media/cache/81/c4/81c4a973364e17d01f217e1188253d5e.jpg\"/></a>\n",
      "</div>\n",
      "<p class=\"star-rating Five\">\n",
      "<i class=\"icon-star\"></i>\n",
      "<i class=\"icon-star\"></i>\n",
      "<i class=\"icon-star\"></i>\n",
      "<i class=\"icon-star\"></i>\n",
      "<i class=\"icon-star\"></i>\n",
      "</p>\n",
      "<h3><a href=\"rip-it-up-and-start-again_986/index.html\" title=\"Rip it Up and Start Again\">Rip it Up and ...</a></h3>\n",
      "<div class=\"product_price\">\n",
      "<p class=\"price_color\">Â£35.02</p>\n",
      "<p class=\"instock availability\">\n",
      "<i class=\"icon-ok\"></i>\n",
      "    \n",
      "        In stock\n",
      "    \n",
      "</p>\n",
      "<form>\n",
      "<button class=\"btn btn-primary btn-block\" data-loading-text=\"Adding...\" type=\"submit\">Add to basket</button>\n",
      "</form>\n",
      "</div>\n",
      "</article>, <article class=\"product_pod\">\n",
      "<div class=\"image_container\">\n",
      "<a href=\"our-band-could-be-your-life-scenes-from-the-american-indie-underground-1981-1991_985/index.html\"><img alt=\"Our Band Could Be Your Life: Scenes from the American Indie Underground, 1981-1991\" class=\"thumbnail\" src=\"../media/cache/54/60/54607fe8945897cdcced0044103b10b6.jpg\"/></a>\n",
      "</div>\n",
      "<p class=\"star-rating Three\">\n",
      "<i class=\"icon-star\"></i>\n",
      "<i class=\"icon-star\"></i>\n",
      "<i class=\"icon-star\"></i>\n",
      "<i class=\"icon-star\"></i>\n",
      "<i class=\"icon-star\"></i>\n",
      "</p>\n",
      "<h3><a href=\"our-band-could-be-your-life-scenes-from-the-american-indie-underground-1981-1991_985/index.html\" title=\"Our Band Could Be Your Life: Scenes from the American Indie Underground, 1981-1991\">Our Band Could Be ...</a></h3>\n",
      "<div class=\"product_price\">\n",
      "<p class=\"price_color\">Â£57.25</p>\n",
      "<p class=\"instock availability\">\n",
      "<i class=\"icon-ok\"></i>\n",
      "    \n",
      "        In stock\n",
      "    \n",
      "</p>\n",
      "<form>\n",
      "<button class=\"btn btn-primary btn-block\" data-loading-text=\"Adding...\" type=\"submit\">Add to basket</button>\n",
      "</form>\n",
      "</div>\n",
      "</article>, <article class=\"product_pod\">\n",
      "<div class=\"image_container\">\n",
      "<a href=\"olio_984/index.html\"><img alt=\"Olio\" class=\"thumbnail\" src=\"../media/cache/55/33/553310a7162dfbc2c6d19a84da0df9e1.jpg\"/></a>\n",
      "</div>\n",
      "<p class=\"star-rating One\">\n",
      "<i class=\"icon-star\"></i>\n",
      "<i class=\"icon-star\"></i>\n",
      "<i class=\"icon-star\"></i>\n",
      "<i class=\"icon-star\"></i>\n",
      "<i class=\"icon-star\"></i>\n",
      "</p>\n",
      "<h3><a href=\"olio_984/index.html\" title=\"Olio\">Olio</a></h3>\n",
      "<div class=\"product_price\">\n",
      "<p class=\"price_color\">Â£23.88</p>\n",
      "<p class=\"instock availability\">\n",
      "<i class=\"icon-ok\"></i>\n",
      "    \n",
      "        In stock\n",
      "    \n",
      "</p>\n",
      "<form>\n",
      "<button class=\"btn btn-primary btn-block\" data-loading-text=\"Adding...\" type=\"submit\">Add to basket</button>\n",
      "</form>\n",
      "</div>\n",
      "</article>, <article class=\"product_pod\">\n",
      "<div class=\"image_container\">\n",
      "<a href=\"mesaerion-the-best-science-fiction-stories-1800-1849_983/index.html\"><img alt=\"Mesaerion: The Best Science Fiction Stories 1800-1849\" class=\"thumbnail\" src=\"../media/cache/09/a3/09a3aef48557576e1a85ba7efea8ecb7.jpg\"/></a>\n",
      "</div>\n",
      "<p class=\"star-rating One\">\n",
      "<i class=\"icon-star\"></i>\n",
      "<i class=\"icon-star\"></i>\n",
      "<i class=\"icon-star\"></i>\n",
      "<i class=\"icon-star\"></i>\n",
      "<i class=\"icon-star\"></i>\n",
      "</p>\n",
      "<h3><a href=\"mesaerion-the-best-science-fiction-stories-1800-1849_983/index.html\" title=\"Mesaerion: The Best Science Fiction Stories 1800-1849\">Mesaerion: The Best Science ...</a></h3>\n",
      "<div class=\"product_price\">\n",
      "<p class=\"price_color\">Â£37.59</p>\n",
      "<p class=\"instock availability\">\n",
      "<i class=\"icon-ok\"></i>\n",
      "    \n",
      "        In stock\n",
      "    \n",
      "</p>\n",
      "<form>\n",
      "<button class=\"btn btn-primary btn-block\" data-loading-text=\"Adding...\" type=\"submit\">Add to basket</button>\n",
      "</form>\n",
      "</div>\n",
      "</article>, <article class=\"product_pod\">\n",
      "<div class=\"image_container\">\n",
      "<a href=\"libertarianism-for-beginners_982/index.html\"><img alt=\"Libertarianism for Beginners\" class=\"thumbnail\" src=\"../media/cache/0b/bc/0bbcd0a6f4bcd81ccb1049a52736406e.jpg\"/></a>\n",
      "</div>\n",
      "<p class=\"star-rating Two\">\n",
      "<i class=\"icon-star\"></i>\n",
      "<i class=\"icon-star\"></i>\n",
      "<i class=\"icon-star\"></i>\n",
      "<i class=\"icon-star\"></i>\n",
      "<i class=\"icon-star\"></i>\n",
      "</p>\n",
      "<h3><a href=\"libertarianism-for-beginners_982/index.html\" title=\"Libertarianism for Beginners\">Libertarianism for Beginners</a></h3>\n",
      "<div class=\"product_price\">\n",
      "<p class=\"price_color\">Â£51.33</p>\n",
      "<p class=\"instock availability\">\n",
      "<i class=\"icon-ok\"></i>\n",
      "    \n",
      "        In stock\n",
      "    \n",
      "</p>\n",
      "<form>\n",
      "<button class=\"btn btn-primary btn-block\" data-loading-text=\"Adding...\" type=\"submit\">Add to basket</button>\n",
      "</form>\n",
      "</div>\n",
      "</article>, <article class=\"product_pod\">\n",
      "<div class=\"image_container\">\n",
      "<a href=\"its-only-the-himalayas_981/index.html\"><img alt=\"It's Only the Himalayas\" class=\"thumbnail\" src=\"../media/cache/27/a5/27a53d0bb95bdd88288eaf66c9230d7e.jpg\"/></a>\n",
      "</div>\n",
      "<p class=\"star-rating Two\">\n",
      "<i class=\"icon-star\"></i>\n",
      "<i class=\"icon-star\"></i>\n",
      "<i class=\"icon-star\"></i>\n",
      "<i class=\"icon-star\"></i>\n",
      "<i class=\"icon-star\"></i>\n",
      "</p>\n",
      "<h3><a href=\"its-only-the-himalayas_981/index.html\" title=\"It's Only the Himalayas\">It's Only the Himalayas</a></h3>\n",
      "<div class=\"product_price\">\n",
      "<p class=\"price_color\">Â£45.17</p>\n",
      "<p class=\"instock availability\">\n",
      "<i class=\"icon-ok\"></i>\n",
      "    \n",
      "        In stock\n",
      "    \n",
      "</p>\n",
      "<form>\n",
      "<button class=\"btn btn-primary btn-block\" data-loading-text=\"Adding...\" type=\"submit\">Add to basket</button>\n",
      "</form>\n",
      "</div>\n",
      "</article>]\n"
     ]
    }
   ],
   "source": [
    "libros = sopa.select('.product_pod')\n",
    "print(libros)"
   ]
  },
  {
   "cell_type": "markdown",
   "id": "4ea5cfd1",
   "metadata": {},
   "source": [
    "En la siguiente celda vamos obteniendo la celda donde se encuentra toda la información de un libro."
   ]
  },
  {
   "cell_type": "code",
   "execution_count": 9,
   "id": "df0b24a4",
   "metadata": {},
   "outputs": [
    {
     "name": "stdout",
     "output_type": "stream",
     "text": [
      "[<a href=\"a-light-in-the-attic_1000/index.html\"><img alt=\"A Light in the Attic\" class=\"thumbnail\" src=\"../media/cache/2c/da/2cdad67c44b002e7ead0cc35693c0e8b.jpg\"/></a>, <a href=\"a-light-in-the-attic_1000/index.html\" title=\"A Light in the Attic\">A Light in the ...</a>]\n"
     ]
    }
   ],
   "source": [
    "ejemplo = libros[0].select('a')\n",
    "print(ejemplo)"
   ]
  },
  {
   "cell_type": "markdown",
   "id": "9e55c52f",
   "metadata": {},
   "source": [
    "Especificando que queremos la segunda **'a'**:"
   ]
  },
  {
   "cell_type": "code",
   "execution_count": 10,
   "id": "31cdfb5e",
   "metadata": {},
   "outputs": [
    {
     "name": "stdout",
     "output_type": "stream",
     "text": [
      "<a href=\"a-light-in-the-attic_1000/index.html\" title=\"A Light in the Attic\">A Light in the ...</a>\n"
     ]
    }
   ],
   "source": [
    "ejemplo = libros[0].select('a')[1]\n",
    "print(ejemplo)"
   ]
  },
  {
   "cell_type": "markdown",
   "id": "5fbb787c",
   "metadata": {},
   "source": [
    "Funcionan como diccionarios, entonces ya podemos pedir el título:"
   ]
  },
  {
   "cell_type": "code",
   "execution_count": 11,
   "id": "77f88321",
   "metadata": {},
   "outputs": [
    {
     "name": "stdout",
     "output_type": "stream",
     "text": [
      "A Light in the Attic\n"
     ]
    }
   ],
   "source": [
    "ejemplo = libros[0].select('a')[1]['title']\n",
    "print(ejemplo)"
   ]
  },
  {
   "cell_type": "code",
   "execution_count": null,
   "id": "f3d1275d",
   "metadata": {},
   "outputs": [],
   "source": []
  }
 ],
 "metadata": {
  "kernelspec": {
   "display_name": "Python 3 (ipykernel)",
   "language": "python",
   "name": "python3"
  },
  "language_info": {
   "codemirror_mode": {
    "name": "ipython",
    "version": 3
   },
   "file_extension": ".py",
   "mimetype": "text/x-python",
   "name": "python",
   "nbconvert_exporter": "python",
   "pygments_lexer": "ipython3",
   "version": "3.11.2"
  }
 },
 "nbformat": 4,
 "nbformat_minor": 5
}
